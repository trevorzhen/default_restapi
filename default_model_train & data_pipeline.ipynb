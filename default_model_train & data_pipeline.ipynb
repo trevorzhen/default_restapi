{
 "cells": [
  {
   "cell_type": "code",
   "execution_count": 7,
   "id": "1c33f1d4",
   "metadata": {},
   "outputs": [],
   "source": [
    "# Import necessary packages\n",
    "import pandas as pd\n",
    "import numpy as np\n",
    "from sklearn.preprocessing import OneHotEncoder, StandardScaler\n",
    "from sklearn.impute import SimpleImputer\n",
    "from sklearn.pipeline import Pipeline\n",
    "from sklearn.compose import ColumnTransformer\n",
    "from sklearn.linear_model import LogisticRegression\n",
    "import pickle"
   ]
  },
  {
   "cell_type": "code",
   "execution_count": 8,
   "id": "4d283060",
   "metadata": {},
   "outputs": [],
   "source": [
    "# Preprocess and select relavent data\n",
    "raw_data = pd.read_csv(\"defaults.csv\")\n",
    "selected_data = raw_data[['Credit', 'Gender', 'Education', 'Marital', 'Age', 'Default']]\n",
    "processed_data = selected_data.copy()\n",
    "mode_data = processed_data.mode()\n",
    "processed_data.fillna(mode_data.loc[0,:], inplace = True)\n",
    "processed_data.to_csv('defaults_selected.csv',index=False)"
   ]
  },
  {
   "cell_type": "code",
   "execution_count": 9,
   "id": "344a78ee",
   "metadata": {},
   "outputs": [],
   "source": [
    "# Distinguish numerical and catagrical data\n",
    "num_vars = ['Credit', 'Age']\n",
    "cat_vars = ['Gender', 'Education', 'Marital', 'Default']"
   ]
  },
  {
   "cell_type": "markdown",
   "id": "433a8a53",
   "metadata": {},
   "source": [
    "Manually data preprocessiong and model training:"
   ]
  },
  {
   "cell_type": "code",
   "execution_count": 10,
   "id": "00adc5b6",
   "metadata": {},
   "outputs": [],
   "source": [
    "processed_data_num = processed_data[num_vars]\n",
    "processed_data_cat = processed_data[cat_vars]"
   ]
  },
  {
   "cell_type": "code",
   "execution_count": 11,
   "id": "a29f89e7",
   "metadata": {},
   "outputs": [],
   "source": [
    "num_enc = StandardScaler()\n",
    "processed_data_num_encoded = num_enc.fit_transform(processed_data_num)"
   ]
  },
  {
   "cell_type": "code",
   "execution_count": 12,
   "id": "3a0bd146",
   "metadata": {},
   "outputs": [],
   "source": [
    "cat_enc = OneHotEncoder(drop = 'first')\n",
    "processed_data_cat_encoded = cat_enc.fit_transform(processed_data_cat)"
   ]
  },
  {
   "cell_type": "code",
   "execution_count": 13,
   "id": "976b9fd8",
   "metadata": {},
   "outputs": [],
   "source": [
    "processed_data_manuel = np.concatenate((processed_data_num_encoded , processed_data_cat_encoded.toarray()), axis=1)"
   ]
  },
  {
   "cell_type": "code",
   "execution_count": 14,
   "id": "78050a0f",
   "metadata": {},
   "outputs": [
    {
     "output_type": "execute_result",
     "data": {
      "text/plain": [
       "0.52625"
      ]
     },
     "metadata": {},
     "execution_count": 14
    }
   ],
   "source": [
    "X = processed_data_manuel[:,0:-1]\n",
    "y = processed_data_manuel[:, -1]\n",
    "model_manual = LogisticRegression(class_weight= 'balanced').fit(X,y)\n",
    "model_manual.score(X,y)"
   ]
  },
  {
   "cell_type": "markdown",
   "id": "d34ccb5f",
   "metadata": {},
   "source": [
    "Data pre-processing and model training using pipeline:"
   ]
  },
  {
   "cell_type": "code",
   "execution_count": 15,
   "id": "8a3b6426",
   "metadata": {},
   "outputs": [],
   "source": [
    "data_pipeline = ColumnTransformer([\n",
    "    ('numerical', StandardScaler(), num_vars),\n",
    "    ('categorical', OneHotEncoder(drop = 'first'), cat_vars)])\n",
    "processed_data_pipeline = data_pipeline.fit_transform(processed_data)\n",
    "pickle.dump(data_pipeline, open('data_transformer', 'wb'))"
   ]
  },
  {
   "cell_type": "code",
   "execution_count": 16,
   "id": "72185cb7",
   "metadata": {},
   "outputs": [
    {
     "output_type": "execute_result",
     "data": {
      "text/plain": [
       "0.52625"
      ]
     },
     "metadata": {},
     "execution_count": 16
    }
   ],
   "source": [
    "lr_pipeline = Pipeline([('lr_model', LogisticRegression(class_weight= 'balanced'))])\n",
    "X = processed_data_pipeline[:,0:-1]\n",
    "y = processed_data_pipeline[:, -1]\n",
    "lr_pipeline.fit(X,y)\n",
    "pickle.dump(lr_pipeline, open('model_train', 'wb'))\n",
    "lr_pipeline.score(X,y)"
   ]
  },
  {
   "cell_type": "code",
   "execution_count": 17,
   "id": "7c4a6569",
   "metadata": {},
   "outputs": [
    {
     "output_type": "execute_result",
     "data": {
      "text/plain": [
       "array([[-0.29141372,  0.12561596, -0.12146618,  0.03041223, -1.2625545 ,\n",
       "         0.13516807, -0.14536495, -0.34067213]])"
      ]
     },
     "metadata": {},
     "execution_count": 17
    }
   ],
   "source": [
    "lr_pipeline.named_steps['lr_model'].coef_"
   ]
  },
  {
   "cell_type": "markdown",
   "id": "53319116",
   "metadata": {},
   "source": [
    "Data pre-processing and model training using LOADED pipeline:"
   ]
  },
  {
   "cell_type": "code",
   "execution_count": 18,
   "id": "0796ad03",
   "metadata": {},
   "outputs": [],
   "source": [
    "data_prep_loaded = pickle.load(open(\"data_transformer\", 'rb'))\n",
    "processed_data_loaded = data_prep_loaded.fit_transform(processed_data)"
   ]
  },
  {
   "cell_type": "code",
   "execution_count": 19,
   "id": "95e28eab",
   "metadata": {},
   "outputs": [
    {
     "output_type": "execute_result",
     "data": {
      "text/plain": [
       "   Credit  Age\n",
       "0  120000   37"
      ],
      "text/html": "<div>\n<style scoped>\n    .dataframe tbody tr th:only-of-type {\n        vertical-align: middle;\n    }\n\n    .dataframe tbody tr th {\n        vertical-align: top;\n    }\n\n    .dataframe thead th {\n        text-align: right;\n    }\n</style>\n<table border=\"1\" class=\"dataframe\">\n  <thead>\n    <tr style=\"text-align: right;\">\n      <th></th>\n      <th>Credit</th>\n      <th>Age</th>\n    </tr>\n  </thead>\n  <tbody>\n    <tr>\n      <th>0</th>\n      <td>120000</td>\n      <td>37</td>\n    </tr>\n  </tbody>\n</table>\n</div>"
     },
     "metadata": {},
     "execution_count": 19
    }
   ],
   "source": [
    "input_dict = {'Credit': 120000, 'Gender': 'Male', 'Education': 'Graduate School', 'Marital': 'Never Married', 'Age': 37, 'Default': 'No'}\n",
    "input_df = pd.DataFrame([input_dict])\n",
    "input_df[num_vars]"
   ]
  },
  {
   "cell_type": "code",
   "execution_count": 20,
   "id": "b394efdc",
   "metadata": {},
   "outputs": [
    {
     "output_type": "execute_result",
     "data": {
      "text/plain": [
       "ColumnTransformer(transformers=[('numerical', StandardScaler(),\n",
       "                                 ['Credit', 'Age']),\n",
       "                                ('categorical', OneHotEncoder(drop='first'),\n",
       "                                 ['Gender', 'Education', 'Marital',\n",
       "                                  'Default'])])"
      ]
     },
     "metadata": {},
     "execution_count": 20
    }
   ],
   "source": [
    "data_prep_loaded.fit(processed_data) "
   ]
  },
  {
   "cell_type": "code",
   "execution_count": 21,
   "id": "c95e76ec",
   "metadata": {},
   "outputs": [
    {
     "output_type": "execute_result",
     "data": {
      "text/plain": [
       "array([-0.28876872,  0.18581318,  1.        ,  0.        ,  0.        ,\n",
       "        0.        ,  1.        ,  0.        ])"
      ]
     },
     "metadata": {},
     "execution_count": 21
    }
   ],
   "source": [
    "x = data_prep_loaded.transform(input_df) \n",
    "x[0,0:-1]"
   ]
  },
  {
   "cell_type": "code",
   "execution_count": 22,
   "id": "e6686729",
   "metadata": {},
   "outputs": [
    {
     "output_type": "execute_result",
     "data": {
      "text/plain": [
       "0.52625"
      ]
     },
     "metadata": {},
     "execution_count": 22
    }
   ],
   "source": [
    "model_loaded = pickle.load(open('model_train', 'rb'))\n",
    "X = processed_data_loaded[:,0:-1]\n",
    "y = processed_data_loaded[:, -1]\n",
    "model_loaded.score(X,y)"
   ]
  },
  {
   "cell_type": "code",
   "execution_count": 23,
   "id": "47213728",
   "metadata": {},
   "outputs": [
    {
     "output_type": "execute_result",
     "data": {
      "text/plain": [
       "array([0.])"
      ]
     },
     "metadata": {},
     "execution_count": 23
    }
   ],
   "source": [
    "model_loaded.predict([x[0,0:-1]])"
   ]
  },
  {
   "cell_type": "code",
   "execution_count": 24,
   "id": "126736bd",
   "metadata": {},
   "outputs": [
    {
     "output_type": "execute_result",
     "data": {
      "text/plain": [
       "0.47149072289870225"
      ]
     },
     "metadata": {},
     "execution_count": 24
    }
   ],
   "source": [
    "model_loaded.predict_proba([x[0,0:-1]])[0][1]"
   ]
  },
  {
   "cell_type": "code",
   "execution_count": 25,
   "id": "0a86267f",
   "metadata": {},
   "outputs": [
    {
     "output_type": "execute_result",
     "data": {
      "text/plain": [
       "       Credit  Gender   Education  Marital  Age Default\n",
       "123  280000.0  Female  University  Married   56      No"
      ],
      "text/html": "<div>\n<style scoped>\n    .dataframe tbody tr th:only-of-type {\n        vertical-align: middle;\n    }\n\n    .dataframe tbody tr th {\n        vertical-align: top;\n    }\n\n    .dataframe thead th {\n        text-align: right;\n    }\n</style>\n<table border=\"1\" class=\"dataframe\">\n  <thead>\n    <tr style=\"text-align: right;\">\n      <th></th>\n      <th>Credit</th>\n      <th>Gender</th>\n      <th>Education</th>\n      <th>Marital</th>\n      <th>Age</th>\n      <th>Default</th>\n    </tr>\n  </thead>\n  <tbody>\n    <tr>\n      <th>123</th>\n      <td>280000.0</td>\n      <td>Female</td>\n      <td>University</td>\n      <td>Married</td>\n      <td>56</td>\n      <td>No</td>\n    </tr>\n  </tbody>\n</table>\n</div>"
     },
     "metadata": {},
     "execution_count": 25
    }
   ],
   "source": [
    "processed_data.iloc[[123]]"
   ]
  },
  {
   "cell_type": "code",
   "execution_count": 26,
   "metadata": {},
   "outputs": [
    {
     "output_type": "execute_result",
     "data": {
      "text/plain": [
       "array([[-0.28876872, -0.97100038,  0.        , ...,  1.        ,\n",
       "         1.        ,  0.        ],\n",
       "       [-0.52457849, -0.12968143,  0.        , ...,  1.        ,\n",
       "         1.        ,  0.        ],\n",
       "       [-0.83899153,  0.18581318,  0.        , ...,  1.        ,\n",
       "         0.        ,  0.        ],\n",
       "       ...,\n",
       "       [-0.91759478,  2.49944029,  0.        , ...,  0.        ,\n",
       "         0.        ,  0.        ],\n",
       "       [-0.1315622 , -0.12968143,  0.        , ...,  1.        ,\n",
       "         0.        ,  0.        ],\n",
       "       [ 0.49726386, -0.34001117,  1.        , ...,  1.        ,\n",
       "         0.        ,  0.        ]])"
      ]
     },
     "metadata": {},
     "execution_count": 26
    }
   ],
   "source": [
    "X"
   ]
  },
  {
   "cell_type": "code",
   "execution_count": 27,
   "metadata": {},
   "outputs": [
    {
     "output_type": "execute_result",
     "data": {
      "text/plain": [
       "array([0., 1., 1., ..., 1., 1., 0.])"
      ]
     },
     "metadata": {},
     "execution_count": 27
    }
   ],
   "source": [
    "model_loaded.predict(X)"
   ]
  },
  {
   "cell_type": "code",
   "execution_count": 29,
   "metadata": {},
   "outputs": [
    {
     "output_type": "execute_result",
     "data": {
      "text/plain": [
       "      Prediction\n",
       "0            0.0\n",
       "1            1.0\n",
       "2            1.0\n",
       "3            1.0\n",
       "4            1.0\n",
       "...          ...\n",
       "1595         0.0\n",
       "1596         0.0\n",
       "1597         1.0\n",
       "1598         1.0\n",
       "1599         0.0\n",
       "\n",
       "[1600 rows x 1 columns]"
      ],
      "text/html": "<div>\n<style scoped>\n    .dataframe tbody tr th:only-of-type {\n        vertical-align: middle;\n    }\n\n    .dataframe tbody tr th {\n        vertical-align: top;\n    }\n\n    .dataframe thead th {\n        text-align: right;\n    }\n</style>\n<table border=\"1\" class=\"dataframe\">\n  <thead>\n    <tr style=\"text-align: right;\">\n      <th></th>\n      <th>Prediction</th>\n    </tr>\n  </thead>\n  <tbody>\n    <tr>\n      <th>0</th>\n      <td>0.0</td>\n    </tr>\n    <tr>\n      <th>1</th>\n      <td>1.0</td>\n    </tr>\n    <tr>\n      <th>2</th>\n      <td>1.0</td>\n    </tr>\n    <tr>\n      <th>3</th>\n      <td>1.0</td>\n    </tr>\n    <tr>\n      <th>4</th>\n      <td>1.0</td>\n    </tr>\n    <tr>\n      <th>...</th>\n      <td>...</td>\n    </tr>\n    <tr>\n      <th>1595</th>\n      <td>0.0</td>\n    </tr>\n    <tr>\n      <th>1596</th>\n      <td>0.0</td>\n    </tr>\n    <tr>\n      <th>1597</th>\n      <td>1.0</td>\n    </tr>\n    <tr>\n      <th>1598</th>\n      <td>1.0</td>\n    </tr>\n    <tr>\n      <th>1599</th>\n      <td>0.0</td>\n    </tr>\n  </tbody>\n</table>\n<p>1600 rows × 1 columns</p>\n</div>"
     },
     "metadata": {},
     "execution_count": 29
    }
   ],
   "source": [
    "pd.DataFrame(data=model_loaded.predict(X) , columns=[\"Prediction\"])"
   ]
  },
  {
   "cell_type": "code",
   "execution_count": null,
   "metadata": {},
   "outputs": [],
   "source": []
  }
 ],
 "metadata": {
  "kernelspec": {
   "name": "python3",
   "display_name": "Python 3.8.10 64-bit ('base': conda)"
  },
  "language_info": {
   "codemirror_mode": {
    "name": "ipython",
    "version": 3
   },
   "file_extension": ".py",
   "mimetype": "text/x-python",
   "name": "python",
   "nbconvert_exporter": "python",
   "pygments_lexer": "ipython3",
   "version": "3.8.10"
  },
  "interpreter": {
   "hash": "0c8724e389a493ddc8ee2ff61378b8a0f101fc14bf1f3ed6e0b0a38083632e99"
  }
 },
 "nbformat": 4,
 "nbformat_minor": 5
}